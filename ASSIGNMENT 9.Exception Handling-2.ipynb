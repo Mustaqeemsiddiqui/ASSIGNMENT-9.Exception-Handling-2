{
 "cells": [
  {
   "cell_type": "markdown",
   "id": "baba7bf7-2084-4234-b22d-d9e5a8c23595",
   "metadata": {},
   "source": [
    "Q1)Explain why we have to use the Exception class while creating a Custom Exception."
   ]
  },
  {
   "cell_type": "markdown",
   "id": "7404404a-557f-48ae-8712-46e2bad390ce",
   "metadata": {},
   "source": [
    "Ans:---\n",
    "1.When creating a custom exception in a programming language like python, it is recommended to inherit from the base \"Exception\" class .The \"Exception\" class serves as the foundation for all built-in exceptions provided by the language."
   ]
  },
  {
   "cell_type": "markdown",
   "id": "e0468668-311d-4386-be07-eebaa6b4181b",
   "metadata": {},
   "source": [
    "2.Using the \"Exception\" class as the base classs for a custom exceptions provides consistency,compatibilty,and integration with the existing exception to fit seamlessly within the language's exception hierarchy and facilitates clear communication of the exception's purpose and behaviour."
   ]
  },
  {
   "cell_type": "markdown",
   "id": "c01d3211-1e1b-4484-be02-0df14b4374bc",
   "metadata": {},
   "source": [
    "Q2) Write a python program to print Python Exception Hierarchy."
   ]
  },
  {
   "cell_type": "code",
   "execution_count": 1,
   "id": "8f0b9d5d-c184-4971-99ac-92bb9d4793e3",
   "metadata": {},
   "outputs": [
    {
     "name": "stdout",
     "output_type": "stream",
     "text": [
      "BaseException\n",
      "object\n"
     ]
    }
   ],
   "source": [
    "def print_exception_hierarchy():\n",
    "    base_exception = BaseException\n",
    "\n",
    "    while base_exception is not None:\n",
    "        print(base_exception.__name__)\n",
    "        base_exception = base_exception.__base__\n",
    "\n",
    "print_exception_hierarchy()\n"
   ]
  },
  {
   "cell_type": "markdown",
   "id": "a740ba8c-a84e-4781-a548-3b4dcb3ce4ad",
   "metadata": {},
   "source": [
    "Q3) What errors are defined in the ArithmeticError class? Explain any two with an example."
   ]
  },
  {
   "cell_type": "markdown",
   "id": "fe21ecec-9c35-4a67-953b-3bb2a8d7f5f9",
   "metadata": {},
   "source": [
    "Ans:---\n",
    "The ArithmeticError class in Python represents errors that occur during arithmetic operations. It serves as the base class for several specific arithmetic-related exceptions. "
   ]
  },
  {
   "cell_type": "markdown",
   "id": "15f40aa4-44be-4260-bd05-33a022938f15",
   "metadata": {},
   "source": [
    "1)ZeroDivisionError: This error occurs when you attempt to divide a number by zero."
   ]
  },
  {
   "cell_type": "code",
   "execution_count": 2,
   "id": "4f8c1d2b-4f87-4b01-b17c-fc3c96c81c7b",
   "metadata": {},
   "outputs": [
    {
     "name": "stdout",
     "output_type": "stream",
     "text": [
      "this is my error because i was dividing it by 0 division by zero\n"
     ]
    }
   ],
   "source": [
    "# example of \"ZeroDivisionError\"\n",
    "try:\n",
    "    a=20/0\n",
    "except ZeroDivisionError as e:\n",
    "    print(\"this is my error because i was dividing it by 0\",e)"
   ]
  },
  {
   "cell_type": "markdown",
   "id": "0c550aff-30f9-4013-840f-489fa7f30d63",
   "metadata": {},
   "source": [
    "2)OverflowError: This error occurs when the result of an arithmetic operation is too large to be represented within the available numeric range."
   ]
  },
  {
   "cell_type": "code",
   "execution_count": null,
   "id": "a8305244-ed03-4d79-9793-bf6bf298d5e8",
   "metadata": {},
   "outputs": [],
   "source": [
    "#example of \"OverflowError\"\n",
    "try:\n",
    "    error=10**100000000000\n",
    "except OverflowError as e:\n",
    "    print(\"this is my error because the result is too large\",e)"
   ]
  },
  {
   "cell_type": "markdown",
   "id": "d1fedab6-ccff-4453-8cc6-f02aa4394af2",
   "metadata": {},
   "source": [
    "Q4) Why LookupError class is used? Explain with an example KeyError and IndexError."
   ]
  },
  {
   "cell_type": "markdown",
   "id": "187e4080-eb87-4cb0-8e89-60770c7dbc77",
   "metadata": {},
   "source": [
    "Ans:---\n",
    "The LookupError class in Python is a base class for exceptions that occur when a lookup or indexing operation fails. It provides a common interface for exceptions related to looking up or accessing elements in sequences (e.g., lists, tuples) or mappings (e.g., dictionaries)."
   ]
  },
  {
   "cell_type": "markdown",
   "id": "f664d374-f66c-434a-9c67-7a09d6be12fb",
   "metadata": {},
   "source": [
    "1)KeyError: This exception occurs when trying to access a non-existent key in a dictionary."
   ]
  },
  {
   "cell_type": "code",
   "execution_count": 3,
   "id": "c102c670-0d17-4eb8-975a-2e6d35fb048f",
   "metadata": {},
   "outputs": [
    {
     "name": "stdout",
     "output_type": "stream",
     "text": [
      "here is key error occured 'siddiqui'\n"
     ]
    }
   ],
   "source": [
    "#example\n",
    "key_value={\"mustaqeem\":21,\"navid\":22,\"tabish\":22}\n",
    "try:\n",
    "    info=key_value[\"siddiqui\"]\n",
    "except KeyError as e:\n",
    "    print(\"here is key error occured\",e)"
   ]
  },
  {
   "cell_type": "markdown",
   "id": "300bbb96-7542-4a28-803a-4b0297637f96",
   "metadata": {},
   "source": [
    "2)IndexError: This exception occurs when trying to access an index that is out of range in a sequence (e.g., list, tuple, string)."
   ]
  },
  {
   "cell_type": "code",
   "execution_count": 4,
   "id": "ebf6283d-6dab-4e2d-ba2a-67d713e73683",
   "metadata": {},
   "outputs": [
    {
     "name": "stdout",
     "output_type": "stream",
     "text": [
      "here is index error occured list index out of range\n"
     ]
    }
   ],
   "source": [
    "#example\n",
    "my_list = [1, 2, 3]\n",
    "\n",
    "try:\n",
    "    value = my_list[5]\n",
    "except IndexError as e:\n",
    "    print(\"here is index error occured\", e)\n"
   ]
  },
  {
   "cell_type": "markdown",
   "id": "db413cc6-1acc-43f9-80ad-e8e6f9867a61",
   "metadata": {},
   "source": [
    "Q5) Explain ImportError. What is ModuleNotFoundError?"
   ]
  },
  {
   "cell_type": "markdown",
   "id": "fd8c7d99-86c9-45c3-b9f5-035d59ce91ef",
   "metadata": {},
   "source": [
    "Ans:---\n",
    "ImportError and ModuleNotFoundError are exceptions in Python that occur when importing modules or packages"
   ]
  },
  {
   "cell_type": "markdown",
   "id": "8b565b4b-733e-4d5a-8786-740024c48b56",
   "metadata": {},
   "source": [
    "1)ImportError: This exception occurs when an import statement fails to find or load a module."
   ]
  },
  {
   "cell_type": "code",
   "execution_count": 5,
   "id": "1497a58b-4837-43aa-8443-938177627a80",
   "metadata": {},
   "outputs": [
    {
     "name": "stdout",
     "output_type": "stream",
     "text": [
      "this is my  ImportError No module named 'non_existent_module'\n"
     ]
    }
   ],
   "source": [
    "try:\n",
    "    import non_existent_module\n",
    "except ImportError as e:\n",
    "    print(\"this is my  ImportError\", e)\n"
   ]
  },
  {
   "cell_type": "markdown",
   "id": "737bdafe-d13b-4292-b48d-24c7126abcf8",
   "metadata": {},
   "source": [
    "2)ModuleNotFoundError: This exception is a subclass of ImportError and specifically occurs when a module or package cannot be found during the import process."
   ]
  },
  {
   "cell_type": "code",
   "execution_count": 6,
   "id": "e8e4b9be-ee25-41c0-a688-70c378af09c1",
   "metadata": {},
   "outputs": [
    {
     "name": "stdout",
     "output_type": "stream",
     "text": [
      "this is my ModuleNotFoundError No module named 'nonexistentpackage'\n"
     ]
    }
   ],
   "source": [
    "try:\n",
    "    from nonexistentpackage import module\n",
    "except ModuleNotFoundError as e:\n",
    "    print(\"this is my ModuleNotFoundError\", e)\n"
   ]
  },
  {
   "cell_type": "code",
   "execution_count": null,
   "id": "0136f0bc-27d5-48d2-b954-21d76b5e1aa8",
   "metadata": {},
   "outputs": [],
   "source": []
  }
 ],
 "metadata": {
  "kernelspec": {
   "display_name": "Python 3 (ipykernel)",
   "language": "python",
   "name": "python3"
  },
  "language_info": {
   "codemirror_mode": {
    "name": "ipython",
    "version": 3
   },
   "file_extension": ".py",
   "mimetype": "text/x-python",
   "name": "python",
   "nbconvert_exporter": "python",
   "pygments_lexer": "ipython3",
   "version": "3.10.8"
  }
 },
 "nbformat": 4,
 "nbformat_minor": 5
}
